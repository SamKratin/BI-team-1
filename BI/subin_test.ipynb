{
 "cells": [
  {
   "cell_type": "code",
   "execution_count": 8,
   "id": "4d900ea2",
   "metadata": {},
   "outputs": [
    {
     "name": "stdout",
     "output_type": "stream",
     "text": [
      "Note: you may need to restart the kernel to use updated packages.Requirement already satisfied: pymongo in c:\\users\\desig\\appdata\\local\\programs\\python\\python313\\lib\\site-packages (4.15.1)\n",
      "Requirement already satisfied: dnspython<3.0.0,>=1.16.0 in c:\\users\\desig\\appdata\\local\\programs\\python\\python313\\lib\\site-packages (from pymongo) (2.8.0)\n",
      "\n"
     ]
    },
    {
     "name": "stderr",
     "output_type": "stream",
     "text": [
      "\n",
      "[notice] A new release of pip is available: 24.3.1 -> 25.2\n",
      "[notice] To update, run: python.exe -m pip install --upgrade pip\n"
     ]
    }
   ],
   "source": [
    "pip install pymongo"
   ]
  },
  {
   "cell_type": "markdown",
   "id": "e7ac937e",
   "metadata": {},
   "source": [
    "# import stuff\n"
   ]
  },
  {
   "cell_type": "code",
   "execution_count": 18,
   "id": "58f06b3a",
   "metadata": {},
   "outputs": [],
   "source": [
    "from os import listdir\n",
    "import pandas as pd\n",
    "from bson import objectid\n",
    "\n",
    "def df_load(path):\n",
    "    raw_data=listdir(path)\n",
    "    cleaned = []\n",
    "    dfs = {}  \n",
    "    \n",
    "    for f in raw_data:\n",
    "        name = f.removesuffix(\".csv\")      # remove extension\n",
    "        if \"_\" in name:\n",
    "            name = name.split(\"_\", 1)[1]   # take everything after the first \"_\"\n",
    "        name = name.removeprefix(\"_\")\n",
    "        name= name.removesuffix(\"__anonymized\")\n",
    "        name= name.removesuffix(\"_anon\")\n",
    "\n",
    "        cleaned.append(name)\n",
    "        \n",
    "        \n",
    "        df = pd.read_csv(f'{path}/{f}')  # adjust path if needed\n",
    "        \n",
    "        # store in dictionary\n",
    "        dfs[name] = df\n",
    "    return dfs\n",
    "\n",
    "# unpacking script\n",
    "# for name, df in dfs.items():\n",
    "#     globals()[name] = df\n",
    "#     print(name)\n",
    "\n",
    "def remove_columns(df):\n",
    "    for col in df.columns:\n",
    "        if df[col].notnull().sum()==0:\n",
    "            df.drop(columns=[col],inplace=True)\n",
    "\n",
    "    for col in df.columns:\n",
    "        if df[col].nunique()==1:\n",
    "            df.drop(columns=[col],inplace=True)\n",
    "    return df\n",
    "\n",
    "\n",
    "def get_creation_time(x):\n",
    "    if pd.isna(x):  \n",
    "        return pd.NaT\n",
    "    try:\n",
    "        return objectid.ObjectId(str(x)).generation_time.replace(tzinfo=None)\n",
    "    except Exception:\n",
    "        return pd.NaT"
   ]
  },
  {
   "cell_type": "code",
   "execution_count": 19,
   "id": "865293d5",
   "metadata": {},
   "outputs": [
    {
     "name": "stdout",
     "output_type": "stream",
     "text": [
      "Requirement already satisfied: python-Levenshtein in c:\\users\\desig\\appdata\\local\\programs\\python\\python313\\lib\\site-packages (0.27.1)\n",
      "Requirement already satisfied: Levenshtein==0.27.1 in c:\\users\\desig\\appdata\\local\\programs\\python\\python313\\lib\\site-packages (from python-Levenshtein) (0.27.1)\n",
      "Requirement already satisfied: rapidfuzz<4.0.0,>=3.9.0 in c:\\users\\desig\\appdata\\local\\programs\\python\\python313\\lib\\site-packages (from Levenshtein==0.27.1->python-Levenshtein) (3.14.1)\n",
      "Note: you may need to restart the kernel to use updated packages.\n"
     ]
    },
    {
     "name": "stderr",
     "output_type": "stream",
     "text": [
      "\n",
      "[notice] A new release of pip is available: 24.3.1 -> 25.2\n",
      "[notice] To update, run: python.exe -m pip install --upgrade pip\n"
     ]
    }
   ],
   "source": [
    "pip install python-Levenshtein"
   ]
  },
  {
   "cell_type": "code",
   "execution_count": 20,
   "id": "05395133",
   "metadata": {},
   "outputs": [],
   "source": [
    "import pandas as pd\n",
    "import numpy as np\n",
    "import matplotlib.pyplot as plt\n",
    "from func import  df_load, get_creation_time, remove_columns\n",
    "import Levenshtein\n"
   ]
  },
  {
   "cell_type": "code",
   "execution_count": 21,
   "id": "bfb8715e",
   "metadata": {},
   "outputs": [
    {
     "name": "stdout",
     "output_type": "stream",
     "text": [
      "employees\n",
      "hubspot_sales_pipeline_stages\n",
      "notion_clients\n",
      "notion_hr\n",
      "notion_roles\n",
      "projects\n",
      "fortnox_invoices\n",
      "fortnox_supplier_invoices\n",
      "hubspot_deals\n",
      "time_entries\n",
      "qbis__activity_time\n",
      "qbis__project_activities\n"
     ]
    }
   ],
   "source": [
    "dfs=df_load('data')\n",
    "for name, df in dfs.items():\n",
    "    globals()[name] = df\n",
    "    remove_columns(df)\n",
    "    print(name)\n",
    "    #print(df.columns)\n",
    "    "
   ]
  },
  {
   "cell_type": "code",
   "execution_count": 22,
   "id": "57236afa",
   "metadata": {},
   "outputs": [
    {
     "data": {
      "application/vnd.microsoft.datawrangler.viewer.v0+json": {
       "columns": [
        {
         "name": "index",
         "rawType": "int64",
         "type": "integer"
        },
        {
         "name": "pipeline_stage_id",
         "rawType": "object",
         "type": "string"
        },
        {
         "name": "pipeline_stage_order",
         "rawType": "int64",
         "type": "integer"
        },
        {
         "name": "pipeline_stage",
         "rawType": "object",
         "type": "string"
        },
        {
         "name": "close_probability",
         "rawType": "float64",
         "type": "float"
        },
        {
         "name": "deal_is_closed",
         "rawType": "bool",
         "type": "boolean"
        }
       ],
       "ref": "2128f3b8-0da7-44fe-a49b-348cdf728a2f",
       "rows": [
        [
         "0",
         "1102499",
         "1",
         "Qualification",
         "0.2",
         "False"
        ],
        [
         "1",
         "12008384",
         "0",
         "Lead",
         "0.1",
         "False"
        ],
        [
         "2",
         "qualifiedtobuy",
         "3",
         "Proposal",
         "0.6",
         "False"
        ],
        [
         "3",
         "appointmentscheduled",
         "2",
         "Exploration",
         "0.4",
         "False"
        ],
        [
         "4",
         "closedlost",
         "5",
         "Closed Lost",
         "0.0",
         "True"
        ],
        [
         "5",
         "closedwon",
         "4",
         "Closed Won",
         "1.0",
         "True"
        ]
       ],
       "shape": {
        "columns": 5,
        "rows": 6
       }
      },
      "text/html": [
       "<div>\n",
       "<style scoped>\n",
       "    .dataframe tbody tr th:only-of-type {\n",
       "        vertical-align: middle;\n",
       "    }\n",
       "\n",
       "    .dataframe tbody tr th {\n",
       "        vertical-align: top;\n",
       "    }\n",
       "\n",
       "    .dataframe thead th {\n",
       "        text-align: right;\n",
       "    }\n",
       "</style>\n",
       "<table border=\"1\" class=\"dataframe\">\n",
       "  <thead>\n",
       "    <tr style=\"text-align: right;\">\n",
       "      <th></th>\n",
       "      <th>pipeline_stage_id</th>\n",
       "      <th>pipeline_stage_order</th>\n",
       "      <th>pipeline_stage</th>\n",
       "      <th>close_probability</th>\n",
       "      <th>deal_is_closed</th>\n",
       "    </tr>\n",
       "  </thead>\n",
       "  <tbody>\n",
       "    <tr>\n",
       "      <th>0</th>\n",
       "      <td>1102499</td>\n",
       "      <td>1</td>\n",
       "      <td>Qualification</td>\n",
       "      <td>0.2</td>\n",
       "      <td>False</td>\n",
       "    </tr>\n",
       "    <tr>\n",
       "      <th>1</th>\n",
       "      <td>12008384</td>\n",
       "      <td>0</td>\n",
       "      <td>Lead</td>\n",
       "      <td>0.1</td>\n",
       "      <td>False</td>\n",
       "    </tr>\n",
       "    <tr>\n",
       "      <th>2</th>\n",
       "      <td>qualifiedtobuy</td>\n",
       "      <td>3</td>\n",
       "      <td>Proposal</td>\n",
       "      <td>0.6</td>\n",
       "      <td>False</td>\n",
       "    </tr>\n",
       "    <tr>\n",
       "      <th>3</th>\n",
       "      <td>appointmentscheduled</td>\n",
       "      <td>2</td>\n",
       "      <td>Exploration</td>\n",
       "      <td>0.4</td>\n",
       "      <td>False</td>\n",
       "    </tr>\n",
       "    <tr>\n",
       "      <th>4</th>\n",
       "      <td>closedlost</td>\n",
       "      <td>5</td>\n",
       "      <td>Closed Lost</td>\n",
       "      <td>0.0</td>\n",
       "      <td>True</td>\n",
       "    </tr>\n",
       "    <tr>\n",
       "      <th>5</th>\n",
       "      <td>closedwon</td>\n",
       "      <td>4</td>\n",
       "      <td>Closed Won</td>\n",
       "      <td>1.0</td>\n",
       "      <td>True</td>\n",
       "    </tr>\n",
       "  </tbody>\n",
       "</table>\n",
       "</div>"
      ],
      "text/plain": [
       "      pipeline_stage_id  pipeline_stage_order pipeline_stage  \\\n",
       "0               1102499                     1  Qualification   \n",
       "1              12008384                     0           Lead   \n",
       "2        qualifiedtobuy                     3       Proposal   \n",
       "3  appointmentscheduled                     2    Exploration   \n",
       "4            closedlost                     5    Closed Lost   \n",
       "5             closedwon                     4     Closed Won   \n",
       "\n",
       "   close_probability  deal_is_closed  \n",
       "0                0.2           False  \n",
       "1                0.1           False  \n",
       "2                0.6           False  \n",
       "3                0.4           False  \n",
       "4                0.0            True  \n",
       "5                1.0            True  "
      ]
     },
     "execution_count": 22,
     "metadata": {},
     "output_type": "execute_result"
    }
   ],
   "source": [
    "hubspot_sales_pipeline_stages"
   ]
  },
  {
   "cell_type": "code",
   "execution_count": null,
   "id": "fedd21a6",
   "metadata": {},
   "outputs": [],
   "source": []
  },
  {
   "cell_type": "code",
   "execution_count": 23,
   "id": "10d8e3bf",
   "metadata": {},
   "outputs": [
    {
     "data": {
      "application/vnd.microsoft.datawrangler.viewer.v0+json": {
       "columns": [
        {
         "name": "index",
         "rawType": "object",
         "type": "string"
        },
        {
         "name": "0",
         "rawType": "object",
         "type": "unknown"
        }
       ],
       "ref": "a26999c2-b454-4bc6-abae-91a8a24877d0",
       "rows": [
        [
         "pipeline_stage_id",
         "object"
        ],
        [
         "pipeline_stage_order",
         "int64"
        ],
        [
         "pipeline_stage",
         "object"
        ],
        [
         "close_probability",
         "float64"
        ],
        [
         "deal_is_closed",
         "bool"
        ]
       ],
       "shape": {
        "columns": 1,
        "rows": 5
       }
      },
      "text/plain": [
       "pipeline_stage_id        object\n",
       "pipeline_stage_order      int64\n",
       "pipeline_stage           object\n",
       "close_probability       float64\n",
       "deal_is_closed             bool\n",
       "dtype: object"
      ]
     },
     "execution_count": 23,
     "metadata": {},
     "output_type": "execute_result"
    }
   ],
   "source": [
    "hubspot_sales_pipeline_stages.dtypes"
   ]
  },
  {
   "cell_type": "code",
   "execution_count": 24,
   "id": "2a053fcd",
   "metadata": {},
   "outputs": [
    {
     "data": {
      "application/vnd.microsoft.datawrangler.viewer.v0+json": {
       "columns": [
        {
         "name": "index",
         "rawType": "object",
         "type": "string"
        },
        {
         "name": "0",
         "rawType": "object",
         "type": "unknown"
        }
       ],
       "ref": "79aa249b-f3ec-4e2c-817a-ce69e8a398b2",
       "rows": [
        [
         "project_activity_id",
         "int64"
        ],
        [
         "project_id",
         "int64"
        ],
        [
         "activity_name",
         "object"
        ],
        [
         "is_active",
         "bool"
        ],
        [
         "is_complete",
         "bool"
        ],
        [
         "is_chargeable",
         "bool"
        ],
        [
         "factor",
         "float64"
        ]
       ],
       "shape": {
        "columns": 1,
        "rows": 7
       }
      },
      "text/plain": [
       "project_activity_id      int64\n",
       "project_id               int64\n",
       "activity_name           object\n",
       "is_active                 bool\n",
       "is_complete               bool\n",
       "is_chargeable             bool\n",
       "factor                 float64\n",
       "dtype: object"
      ]
     },
     "execution_count": 24,
     "metadata": {},
     "output_type": "execute_result"
    }
   ],
   "source": [
    "qbis__project_activities.dtypes"
   ]
  },
  {
   "cell_type": "code",
   "execution_count": 25,
   "id": "49c4cf15",
   "metadata": {},
   "outputs": [
    {
     "data": {
      "application/vnd.microsoft.datawrangler.viewer.v0+json": {
       "columns": [
        {
         "name": "index",
         "rawType": "object",
         "type": "string"
        },
        {
         "name": "0",
         "rawType": "object",
         "type": "unknown"
        }
       ],
       "ref": "08cbb61b-af1e-4bce-8878-f371b8fd4124",
       "rows": [
        [
         "activity_time_id",
         "int64"
        ],
        [
         "employee_id",
         "int64"
        ],
        [
         "activity_id",
         "int64"
        ],
        [
         "activity_date",
         "object"
        ],
        [
         "minutes",
         "int64"
        ],
        [
         "factor_value",
         "float64"
        ],
        [
         "notes_internal",
         "object"
        ]
       ],
       "shape": {
        "columns": 1,
        "rows": 7
       }
      },
      "text/plain": [
       "activity_time_id      int64\n",
       "employee_id           int64\n",
       "activity_id           int64\n",
       "activity_date        object\n",
       "minutes               int64\n",
       "factor_value        float64\n",
       "notes_internal       object\n",
       "dtype: object"
      ]
     },
     "execution_count": 25,
     "metadata": {},
     "output_type": "execute_result"
    }
   ],
   "source": [
    "qbis__activity_time.dtypes"
   ]
  },
  {
   "cell_type": "code",
   "execution_count": 26,
   "id": "30ee0789",
   "metadata": {},
   "outputs": [
    {
     "data": {
      "application/vnd.microsoft.datawrangler.viewer.v0+json": {
       "columns": [
        {
         "name": "index",
         "rawType": "object",
         "type": "string"
        },
        {
         "name": "0",
         "rawType": "object",
         "type": "unknown"
        }
       ],
       "ref": "56dab160-5adb-4551-b680-16ea887b9da7",
       "rows": [
        [
         "dt",
         "object"
        ],
        [
         "time_entry_id",
         "object"
        ],
        [
         "project_id",
         "object"
        ],
        [
         "user_id",
         "object"
        ],
        [
         "billable",
         "bool"
        ],
        [
         "hours",
         "float64"
        ],
        [
         "billable_hours",
         "float64"
        ]
       ],
       "shape": {
        "columns": 1,
        "rows": 7
       }
      },
      "text/plain": [
       "dt                 object\n",
       "time_entry_id      object\n",
       "project_id         object\n",
       "user_id            object\n",
       "billable             bool\n",
       "hours             float64\n",
       "billable_hours    float64\n",
       "dtype: object"
      ]
     },
     "execution_count": 26,
     "metadata": {},
     "output_type": "execute_result"
    }
   ],
   "source": [
    "time_entries.dtypes"
   ]
  },
  {
   "cell_type": "code",
   "execution_count": 27,
   "id": "e73ca003",
   "metadata": {},
   "outputs": [
    {
     "data": {
      "application/vnd.microsoft.datawrangler.viewer.v0+json": {
       "columns": [
        {
         "name": "index",
         "rawType": "int64",
         "type": "integer"
        },
        {
         "name": "invoice_amount_net",
         "rawType": "float64",
         "type": "float"
        },
        {
         "name": "invoice_amount_total",
         "rawType": "float64",
         "type": "float"
        },
        {
         "name": "customer_number",
         "rawType": "int64",
         "type": "integer"
        },
        {
         "name": "due_date",
         "rawType": "object",
         "type": "string"
        },
        {
         "name": "invoice_date",
         "rawType": "object",
         "type": "string"
        },
        {
         "name": "final_pay_date",
         "rawType": "object",
         "type": "unknown"
        },
        {
         "name": "month_name",
         "rawType": "object",
         "type": "string"
        },
        {
         "name": "accounting_month",
         "rawType": "int64",
         "type": "integer"
        },
        {
         "name": "accounting_year",
         "rawType": "int64",
         "type": "integer"
        },
        {
         "name": "accounting_year_date",
         "rawType": "object",
         "type": "string"
        },
        {
         "name": "broker",
         "rawType": "object",
         "type": "unknown"
        },
        {
         "name": "client_anon",
         "rawType": "object",
         "type": "string"
        }
       ],
       "ref": "ba2a3f28-62f0-4aae-a5e0-905deecd8b2f",
       "rows": [
        [
         "0",
         "52000.0",
         "65000.0",
         "559296",
         "2024-10-15",
         "2024-09-30",
         null,
         "September",
         "5",
         "2024",
         "2024-05-28",
         null,
         "Mccoy, Singh and Smith"
        ],
        [
         "1",
         "136500.0",
         "170625.0",
         "559298",
         "2024-12-04",
         "2024-11-04",
         "2024-12-04",
         "November",
         "7",
         "2024",
         "2024-07-04",
         null,
         "Atkinson, Bishop and Cohen"
        ],
        [
         "2",
         "192000.0",
         "240000.0",
         "559298",
         "2025-01-01",
         "2024-11-30",
         "2024-12-30",
         "November",
         "7",
         "2024",
         "2024-07-28",
         null,
         "Atkinson, Bishop and Cohen"
        ],
        [
         "3",
         "133500.0",
         "166875.0",
         "559298",
         "2025-02-02",
         "2024-12-31",
         "2025-01-31",
         "December",
         "8",
         "2024",
         "2024-08-28",
         null,
         "Atkinson, Bishop and Cohen"
        ],
        [
         "4",
         "212800.0",
         "266000.0",
         "559298",
         "2025-03-05",
         "2025-01-31",
         "2025-03-05",
         "January",
         "9",
         "2024",
         "2024-09-28",
         null,
         "Atkinson, Bishop and Cohen"
        ],
        [
         "5",
         "50000.0",
         "62500.0",
         "559299",
         "2025-04-03",
         "2025-02-28",
         "2025-04-03",
         "February",
         "10",
         "2024",
         "2024-10-28",
         null,
         "Howe, Vaughn and Wilcox"
        ],
        [
         "6",
         "235200.0",
         "294000.0",
         "559298",
         "2025-04-03",
         "2025-02-28",
         "2025-04-03",
         "February",
         "10",
         "2024",
         "2024-10-28",
         null,
         "Atkinson, Bishop and Cohen"
        ],
        [
         "7",
         "50000.0",
         "62500.0",
         "559299",
         "2025-05-02",
         "2025-03-31",
         "2025-05-02",
         "March",
         "11",
         "2024",
         "2024-11-28",
         null,
         "Howe, Vaughn and Wilcox"
        ],
        [
         "8",
         "212800.0",
         "266000.0",
         "559298",
         "2025-05-01",
         "2025-03-31",
         "2025-04-30",
         "March",
         "11",
         "2024",
         "2024-11-28",
         null,
         "Atkinson, Bishop and Cohen"
        ],
        [
         "9",
         "224000.0",
         "280000.0",
         "559298",
         "2025-06-05",
         "2025-04-30",
         "2025-06-05",
         "April",
         "12",
         "2024",
         "2024-12-28",
         null,
         "Atkinson, Bishop and Cohen"
        ],
        [
         "10",
         "10500.0",
         "13125.0",
         "40",
         "2025-06-30",
         "2025-05-31",
         "2025-06-30",
         "May",
         "1",
         "2025",
         "2025-01-28",
         null,
         "Mcgee-Mendoza"
        ],
        [
         "11",
         "102259.01",
         "127824.0",
         "559298",
         "2025-06-30",
         "2025-05-31",
         "2025-06-30",
         "May",
         "1",
         "2025",
         "2025-01-28",
         null,
         "Atkinson, Bishop and Cohen"
        ],
        [
         "12",
         "42750.0",
         "53438.0",
         "40",
         "2025-07-30",
         "2025-06-30",
         "2025-07-30",
         "June",
         "2",
         "2025",
         "2025-02-28",
         null,
         "Mcgee-Mendoza"
        ],
        [
         "13",
         "45150.0",
         "56438.0",
         "41",
         "2025-08-08",
         "2025-06-30",
         "2025-08-08",
         "June",
         "2",
         "2025",
         "2025-02-28",
         null,
         "Smith, Guerrero and Howell"
        ],
        [
         "14",
         "5600.0",
         "7000.0",
         "559298",
         "2025-07-30",
         "2025-06-30",
         "2025-07-30",
         "June",
         "2",
         "2025",
         "2025-02-28",
         null,
         "Atkinson, Bishop and Cohen"
        ],
        [
         "15",
         "15400.0",
         "19250.0",
         "559298",
         "2025-08-30",
         "2025-07-31",
         "2025-08-29",
         "July",
         "3",
         "2025",
         "2025-03-28",
         null,
         "Atkinson, Bishop and Cohen"
        ],
        [
         "16",
         "17250.0",
         "21563.0",
         "40",
         "2025-08-30",
         "2025-07-31",
         "2025-09-01",
         "July",
         "3",
         "2025",
         "2025-03-28",
         null,
         "Mcgee-Mendoza"
        ],
        [
         "17",
         "19600.0",
         "24500.0",
         "41",
         "2025-08-30",
         "2025-07-31",
         "2025-08-29",
         "July",
         "3",
         "2025",
         "2025-03-28",
         null,
         "Smith, Guerrero and Howell"
        ],
        [
         "18",
         "34300.0",
         "42875.0",
         "559298",
         "2025-09-30",
         "2025-08-31",
         null,
         "August",
         "4",
         "2025",
         "2025-04-28",
         null,
         "Atkinson, Bishop and Cohen"
        ],
        [
         "19",
         "96600.0",
         "120750.0",
         "41",
         "2025-09-30",
         "2025-08-31",
         null,
         "August",
         "4",
         "2025",
         "2025-04-28",
         null,
         "Smith, Guerrero and Howell"
        ],
        [
         "20",
         "53250.0",
         "66563.0",
         "40",
         "2025-09-30",
         "2025-08-31",
         null,
         "August",
         "4",
         "2025",
         "2025-04-28",
         null,
         "Mcgee-Mendoza"
        ],
        [
         "21",
         "115747.5",
         "144684.0",
         "2",
         "2019-08-16",
         "2019-06-30",
         "2019-08-20",
         "June",
         "2",
         "2019",
         "2019-02-28",
         "Broker",
         "Woods-Myers"
        ],
        [
         "22",
         "34155.0",
         "42694.0",
         "2",
         "2019-09-16",
         "2019-07-31",
         "2019-09-18",
         "July",
         "3",
         "2019",
         "2019-03-28",
         "Broker",
         "Woods-Myers"
        ],
        [
         "23",
         "140415.0",
         "175519.0",
         "2",
         "2019-10-18",
         "2019-08-31",
         "2019-10-28",
         "August",
         "4",
         "2019",
         "2019-04-28",
         "Broker",
         "Woods-Myers"
        ],
        [
         "24",
         "185955.0",
         "232444.0",
         "2",
         "2019-11-16",
         "2019-09-30",
         "2019-11-29",
         "September",
         "5",
         "2019",
         "2019-05-28",
         "Broker",
         "Woods-Myers"
        ],
        [
         "25",
         "189750.0",
         "237188.0",
         "2",
         "2019-12-17",
         "2019-10-31",
         "2019-12-18",
         "October",
         "6",
         "2019",
         "2019-06-28",
         "Broker",
         "Woods-Myers"
        ],
        [
         "26",
         "189750.0",
         "237188.0",
         "2",
         "2020-01-17",
         "2019-11-30",
         "2020-01-17",
         "November",
         "7",
         "2019",
         "2019-07-28",
         "Broker",
         "Woods-Myers"
        ],
        [
         "27",
         "148005.0",
         "185006.0",
         "2",
         "2020-02-20",
         "2019-12-31",
         "2020-02-14",
         "December",
         "8",
         "2019",
         "2019-08-28",
         "Broker",
         "Woods-Myers"
        ],
        [
         "28",
         "132000.0",
         "165000.0",
         "2",
         "2020-02-20",
         "2019-12-31",
         "2020-02-14",
         "December",
         "8",
         "2019",
         "2019-08-28",
         "Broker",
         "Woods-Myers"
        ],
        [
         "29",
         "167200.0",
         "209000.0",
         "2",
         "2020-03-19",
         "2020-01-31",
         "2020-03-27",
         "January",
         "9",
         "2019",
         "2019-09-28",
         "Broker",
         "Woods-Myers"
        ],
        [
         "30",
         "180262.5",
         "225328.0",
         "2",
         "2020-03-19",
         "2020-01-31",
         "2020-03-27",
         "January",
         "9",
         "2019",
         "2019-09-28",
         "Broker",
         "Woods-Myers"
        ],
        [
         "31",
         "167200.0",
         "209000.0",
         "2",
         "2020-04-17",
         "2020-02-29",
         "2020-04-20",
         "February",
         "10",
         "2019",
         "2019-10-28",
         "Broker",
         "Woods-Myers"
        ],
        [
         "32",
         "161287.5",
         "201609.0",
         "2",
         "2020-04-17",
         "2020-02-29",
         "2020-04-20",
         "February",
         "10",
         "2019",
         "2019-10-28",
         "Broker",
         "Woods-Myers"
        ],
        [
         "33",
         "119542.5",
         "149428.0",
         "2",
         "2020-05-20",
         "2020-03-31",
         "2020-05-20",
         "March",
         "11",
         "2019",
         "2019-11-28",
         "Broker",
         "Woods-Myers"
        ],
        [
         "34",
         "176000.0",
         "220000.0",
         "2",
         "2020-05-08",
         "2020-04-08",
         "2020-05-20",
         "April",
         "12",
         "2019",
         "2019-12-08",
         "Broker",
         "Woods-Myers"
        ],
        [
         "35",
         "165082.5",
         "206353.0",
         "2",
         "2020-06-19",
         "2020-04-30",
         "2020-06-23",
         "April",
         "12",
         "2019",
         "2019-12-28",
         "Broker",
         "Woods-Myers"
        ],
        [
         "36",
         "167200.0",
         "209000.0",
         "2",
         "2020-06-19",
         "2020-04-30",
         "2020-07-01",
         "April",
         "12",
         "2019",
         "2019-12-28",
         "Broker",
         "Woods-Myers"
        ],
        [
         "37",
         "158400.0",
         "198000.0",
         "2",
         "2020-07-17",
         "2020-05-31",
         "2020-07-21",
         "May",
         "1",
         "2020",
         "2020-01-28",
         "Broker",
         "Woods-Myers"
        ],
        [
         "38",
         "184057.5",
         "230072.0",
         "2",
         "2020-07-17",
         "2020-05-31",
         "2020-07-21",
         "May",
         "1",
         "2020",
         "2020-01-28",
         "Broker",
         "Woods-Myers"
        ],
        [
         "39",
         "176000.0",
         "220000.0",
         "2",
         "2020-08-21",
         "2020-06-30",
         "2020-08-20",
         "June",
         "2",
         "2020",
         "2020-02-28",
         "Broker",
         "Woods-Myers"
        ],
        [
         "40",
         "176467.5",
         "220584.0",
         "2",
         "2020-08-21",
         "2020-06-30",
         "2020-08-20",
         "June",
         "2",
         "2020",
         "2020-02-28",
         "Broker",
         "Woods-Myers"
        ],
        [
         "41",
         "24667.5",
         "30834.0",
         "2",
         "2020-09-17",
         "2020-07-31",
         "2020-09-18",
         "July",
         "3",
         "2020",
         "2020-03-28",
         "Broker",
         "Woods-Myers"
        ],
        [
         "42",
         "48400.0",
         "60500.0",
         "2",
         "2020-09-17",
         "2020-07-31",
         "2020-09-18",
         "July",
         "3",
         "2020",
         "2020-03-28",
         "Broker",
         "Woods-Myers"
        ],
        [
         "43",
         "138517.5",
         "173147.0",
         "2",
         "2020-10-16",
         "2020-08-31",
         "2020-10-23",
         "August",
         "4",
         "2020",
         "2020-04-28",
         "Broker",
         "Woods-Myers"
        ],
        [
         "44",
         "132000.0",
         "165000.0",
         "2",
         "2020-10-16",
         "2020-08-31",
         "2020-10-23",
         "August",
         "4",
         "2020",
         "2020-04-28",
         "Broker",
         "Woods-Myers"
        ],
        [
         "45",
         "178365.0",
         "222956.0",
         "2",
         "2020-11-19",
         "2020-09-30",
         "2020-11-23",
         "September",
         "5",
         "2020",
         "2020-05-28",
         "Broker",
         "Woods-Myers"
        ],
        [
         "46",
         "193600.0",
         "242000.0",
         "2",
         "2020-11-19",
         "2020-09-30",
         "2020-11-23",
         "September",
         "5",
         "2020",
         "2020-05-28",
         "Broker",
         "Woods-Myers"
        ],
        [
         "47",
         "180262.5",
         "225328.0",
         "2",
         "2020-12-18",
         "2020-10-31",
         "2020-12-21",
         "October",
         "6",
         "2020",
         "2020-06-28",
         "Broker",
         "Woods-Myers"
        ],
        [
         "48",
         "196560.0",
         "245700.0",
         "5",
         "2020-12-03",
         "2020-10-31",
         "2020-12-03",
         "October",
         "6",
         "2020",
         "2020-06-28",
         "Broker",
         "Bush, Sawyer and Chambers"
        ],
        [
         "49",
         "193600.0",
         "242000.0",
         "2",
         "2020-12-18",
         "2020-10-31",
         "2020-12-21",
         "October",
         "6",
         "2020",
         "2020-06-28",
         "Broker",
         "Woods-Myers"
        ]
       ],
       "shape": {
        "columns": 12,
        "rows": 615
       }
      },
      "text/html": [
       "<div>\n",
       "<style scoped>\n",
       "    .dataframe tbody tr th:only-of-type {\n",
       "        vertical-align: middle;\n",
       "    }\n",
       "\n",
       "    .dataframe tbody tr th {\n",
       "        vertical-align: top;\n",
       "    }\n",
       "\n",
       "    .dataframe thead th {\n",
       "        text-align: right;\n",
       "    }\n",
       "</style>\n",
       "<table border=\"1\" class=\"dataframe\">\n",
       "  <thead>\n",
       "    <tr style=\"text-align: right;\">\n",
       "      <th></th>\n",
       "      <th>invoice_amount_net</th>\n",
       "      <th>invoice_amount_total</th>\n",
       "      <th>customer_number</th>\n",
       "      <th>due_date</th>\n",
       "      <th>invoice_date</th>\n",
       "      <th>final_pay_date</th>\n",
       "      <th>month_name</th>\n",
       "      <th>accounting_month</th>\n",
       "      <th>accounting_year</th>\n",
       "      <th>accounting_year_date</th>\n",
       "      <th>broker</th>\n",
       "      <th>client_anon</th>\n",
       "    </tr>\n",
       "  </thead>\n",
       "  <tbody>\n",
       "    <tr>\n",
       "      <th>0</th>\n",
       "      <td>52000.0</td>\n",
       "      <td>65000.0</td>\n",
       "      <td>559296</td>\n",
       "      <td>2024-10-15</td>\n",
       "      <td>2024-09-30</td>\n",
       "      <td>NaN</td>\n",
       "      <td>September</td>\n",
       "      <td>5</td>\n",
       "      <td>2024</td>\n",
       "      <td>2024-05-28</td>\n",
       "      <td>NaN</td>\n",
       "      <td>Mccoy, Singh and Smith</td>\n",
       "    </tr>\n",
       "    <tr>\n",
       "      <th>1</th>\n",
       "      <td>136500.0</td>\n",
       "      <td>170625.0</td>\n",
       "      <td>559298</td>\n",
       "      <td>2024-12-04</td>\n",
       "      <td>2024-11-04</td>\n",
       "      <td>2024-12-04</td>\n",
       "      <td>November</td>\n",
       "      <td>7</td>\n",
       "      <td>2024</td>\n",
       "      <td>2024-07-04</td>\n",
       "      <td>NaN</td>\n",
       "      <td>Atkinson, Bishop and Cohen</td>\n",
       "    </tr>\n",
       "    <tr>\n",
       "      <th>2</th>\n",
       "      <td>192000.0</td>\n",
       "      <td>240000.0</td>\n",
       "      <td>559298</td>\n",
       "      <td>2025-01-01</td>\n",
       "      <td>2024-11-30</td>\n",
       "      <td>2024-12-30</td>\n",
       "      <td>November</td>\n",
       "      <td>7</td>\n",
       "      <td>2024</td>\n",
       "      <td>2024-07-28</td>\n",
       "      <td>NaN</td>\n",
       "      <td>Atkinson, Bishop and Cohen</td>\n",
       "    </tr>\n",
       "    <tr>\n",
       "      <th>3</th>\n",
       "      <td>133500.0</td>\n",
       "      <td>166875.0</td>\n",
       "      <td>559298</td>\n",
       "      <td>2025-02-02</td>\n",
       "      <td>2024-12-31</td>\n",
       "      <td>2025-01-31</td>\n",
       "      <td>December</td>\n",
       "      <td>8</td>\n",
       "      <td>2024</td>\n",
       "      <td>2024-08-28</td>\n",
       "      <td>NaN</td>\n",
       "      <td>Atkinson, Bishop and Cohen</td>\n",
       "    </tr>\n",
       "    <tr>\n",
       "      <th>4</th>\n",
       "      <td>212800.0</td>\n",
       "      <td>266000.0</td>\n",
       "      <td>559298</td>\n",
       "      <td>2025-03-05</td>\n",
       "      <td>2025-01-31</td>\n",
       "      <td>2025-03-05</td>\n",
       "      <td>January</td>\n",
       "      <td>9</td>\n",
       "      <td>2024</td>\n",
       "      <td>2024-09-28</td>\n",
       "      <td>NaN</td>\n",
       "      <td>Atkinson, Bishop and Cohen</td>\n",
       "    </tr>\n",
       "    <tr>\n",
       "      <th>...</th>\n",
       "      <td>...</td>\n",
       "      <td>...</td>\n",
       "      <td>...</td>\n",
       "      <td>...</td>\n",
       "      <td>...</td>\n",
       "      <td>...</td>\n",
       "      <td>...</td>\n",
       "      <td>...</td>\n",
       "      <td>...</td>\n",
       "      <td>...</td>\n",
       "      <td>...</td>\n",
       "      <td>...</td>\n",
       "    </tr>\n",
       "    <tr>\n",
       "      <th>610</th>\n",
       "      <td>152000.0</td>\n",
       "      <td>190000.0</td>\n",
       "      <td>559290</td>\n",
       "      <td>2025-03-05</td>\n",
       "      <td>2025-01-31</td>\n",
       "      <td>2025-03-14</td>\n",
       "      <td>January</td>\n",
       "      <td>9</td>\n",
       "      <td>2024</td>\n",
       "      <td>2024-09-28</td>\n",
       "      <td>Partner</td>\n",
       "      <td>Ali-Lawrence</td>\n",
       "    </tr>\n",
       "    <tr>\n",
       "      <th>611</th>\n",
       "      <td>160000.0</td>\n",
       "      <td>200000.0</td>\n",
       "      <td>559290</td>\n",
       "      <td>2025-04-03</td>\n",
       "      <td>2025-02-28</td>\n",
       "      <td>2025-04-08</td>\n",
       "      <td>February</td>\n",
       "      <td>10</td>\n",
       "      <td>2024</td>\n",
       "      <td>2024-10-28</td>\n",
       "      <td>Partner</td>\n",
       "      <td>Ali-Lawrence</td>\n",
       "    </tr>\n",
       "    <tr>\n",
       "      <th>612</th>\n",
       "      <td>160000.0</td>\n",
       "      <td>200000.0</td>\n",
       "      <td>559290</td>\n",
       "      <td>2025-04-30</td>\n",
       "      <td>2025-03-31</td>\n",
       "      <td>2025-05-09</td>\n",
       "      <td>March</td>\n",
       "      <td>11</td>\n",
       "      <td>2024</td>\n",
       "      <td>2024-11-28</td>\n",
       "      <td>Partner</td>\n",
       "      <td>Ali-Lawrence</td>\n",
       "    </tr>\n",
       "    <tr>\n",
       "      <th>613</th>\n",
       "      <td>128000.0</td>\n",
       "      <td>160000.0</td>\n",
       "      <td>559290</td>\n",
       "      <td>2025-06-05</td>\n",
       "      <td>2025-04-30</td>\n",
       "      <td>2025-06-12</td>\n",
       "      <td>April</td>\n",
       "      <td>12</td>\n",
       "      <td>2024</td>\n",
       "      <td>2024-12-28</td>\n",
       "      <td>Partner</td>\n",
       "      <td>Ali-Lawrence</td>\n",
       "    </tr>\n",
       "    <tr>\n",
       "      <th>614</th>\n",
       "      <td>144000.0</td>\n",
       "      <td>180000.0</td>\n",
       "      <td>559290</td>\n",
       "      <td>2025-06-30</td>\n",
       "      <td>2025-05-31</td>\n",
       "      <td>2025-07-03</td>\n",
       "      <td>May</td>\n",
       "      <td>1</td>\n",
       "      <td>2025</td>\n",
       "      <td>2025-01-28</td>\n",
       "      <td>Partner</td>\n",
       "      <td>Ali-Lawrence</td>\n",
       "    </tr>\n",
       "  </tbody>\n",
       "</table>\n",
       "<p>615 rows × 12 columns</p>\n",
       "</div>"
      ],
      "text/plain": [
       "     invoice_amount_net  invoice_amount_total  customer_number    due_date  \\\n",
       "0               52000.0               65000.0           559296  2024-10-15   \n",
       "1              136500.0              170625.0           559298  2024-12-04   \n",
       "2              192000.0              240000.0           559298  2025-01-01   \n",
       "3              133500.0              166875.0           559298  2025-02-02   \n",
       "4              212800.0              266000.0           559298  2025-03-05   \n",
       "..                  ...                   ...              ...         ...   \n",
       "610            152000.0              190000.0           559290  2025-03-05   \n",
       "611            160000.0              200000.0           559290  2025-04-03   \n",
       "612            160000.0              200000.0           559290  2025-04-30   \n",
       "613            128000.0              160000.0           559290  2025-06-05   \n",
       "614            144000.0              180000.0           559290  2025-06-30   \n",
       "\n",
       "    invoice_date final_pay_date month_name  accounting_month  accounting_year  \\\n",
       "0     2024-09-30            NaN  September                 5             2024   \n",
       "1     2024-11-04     2024-12-04   November                 7             2024   \n",
       "2     2024-11-30     2024-12-30   November                 7             2024   \n",
       "3     2024-12-31     2025-01-31   December                 8             2024   \n",
       "4     2025-01-31     2025-03-05    January                 9             2024   \n",
       "..           ...            ...        ...               ...              ...   \n",
       "610   2025-01-31     2025-03-14    January                 9             2024   \n",
       "611   2025-02-28     2025-04-08   February                10             2024   \n",
       "612   2025-03-31     2025-05-09      March                11             2024   \n",
       "613   2025-04-30     2025-06-12      April                12             2024   \n",
       "614   2025-05-31     2025-07-03        May                 1             2025   \n",
       "\n",
       "    accounting_year_date   broker                 client_anon  \n",
       "0             2024-05-28      NaN      Mccoy, Singh and Smith  \n",
       "1             2024-07-04      NaN  Atkinson, Bishop and Cohen  \n",
       "2             2024-07-28      NaN  Atkinson, Bishop and Cohen  \n",
       "3             2024-08-28      NaN  Atkinson, Bishop and Cohen  \n",
       "4             2024-09-28      NaN  Atkinson, Bishop and Cohen  \n",
       "..                   ...      ...                         ...  \n",
       "610           2024-09-28  Partner                Ali-Lawrence  \n",
       "611           2024-10-28  Partner                Ali-Lawrence  \n",
       "612           2024-11-28  Partner                Ali-Lawrence  \n",
       "613           2024-12-28  Partner                Ali-Lawrence  \n",
       "614           2025-01-28  Partner                Ali-Lawrence  \n",
       "\n",
       "[615 rows x 12 columns]"
      ]
     },
     "execution_count": 27,
     "metadata": {},
     "output_type": "execute_result"
    }
   ],
   "source": [
    "fortnox_invoices"
   ]
  },
  {
   "cell_type": "code",
   "execution_count": 28,
   "id": "de2a3b53",
   "metadata": {},
   "outputs": [
    {
     "data": {
      "application/vnd.microsoft.datawrangler.viewer.v0+json": {
       "columns": [
        {
         "name": "index",
         "rawType": "object",
         "type": "string"
        },
        {
         "name": "0",
         "rawType": "object",
         "type": "unknown"
        }
       ],
       "ref": "837bba59-5096-41c5-8468-4a2452eae074",
       "rows": [
        [
         "deal_id",
         "int64"
        ],
        [
         "deal_amount",
         "float64"
        ],
        [
         "deal_stage",
         "object"
        ],
        [
         "deal_close_probability",
         "float64"
        ],
        [
         "create_date",
         "object"
        ],
        [
         "last_modified_date",
         "object"
        ],
        [
         "close_date",
         "object"
        ],
        [
         "owner_id",
         "int64"
        ],
        [
         "weighted_deal_amount",
         "float64"
        ],
        [
         "deal_name_anon",
         "object"
        ]
       ],
       "shape": {
        "columns": 1,
        "rows": 10
       }
      },
      "text/plain": [
       "deal_id                     int64\n",
       "deal_amount               float64\n",
       "deal_stage                 object\n",
       "deal_close_probability    float64\n",
       "create_date                object\n",
       "last_modified_date         object\n",
       "close_date                 object\n",
       "owner_id                    int64\n",
       "weighted_deal_amount      float64\n",
       "deal_name_anon             object\n",
       "dtype: object"
      ]
     },
     "execution_count": 28,
     "metadata": {},
     "output_type": "execute_result"
    }
   ],
   "source": [
    "hubspot_deals.dtypes"
   ]
  },
  {
   "cell_type": "code",
   "execution_count": 29,
   "id": "30ef2a08",
   "metadata": {},
   "outputs": [
    {
     "data": {
      "application/vnd.microsoft.datawrangler.viewer.v0+json": {
       "columns": [
        {
         "name": "index",
         "rawType": "object",
         "type": "string"
        },
        {
         "name": "0",
         "rawType": "object",
         "type": "unknown"
        }
       ],
       "ref": "e5752792-0568-4daa-9e70-a637e381d6c3",
       "rows": [
        [
         "invoice_payment",
         "float64"
        ],
        [
         "categorization",
         "object"
        ],
        [
         "invoice_date",
         "object"
        ],
        [
         "due_date",
         "object"
        ],
        [
         "final_pay_date",
         "object"
        ]
       ],
       "shape": {
        "columns": 1,
        "rows": 5
       }
      },
      "text/plain": [
       "invoice_payment    float64\n",
       "categorization      object\n",
       "invoice_date        object\n",
       "due_date            object\n",
       "final_pay_date      object\n",
       "dtype: object"
      ]
     },
     "execution_count": 29,
     "metadata": {},
     "output_type": "execute_result"
    }
   ],
   "source": [
    "fortnox_supplier_invoices.dtypes"
   ]
  },
  {
   "cell_type": "code",
   "execution_count": 30,
   "id": "fab18446",
   "metadata": {},
   "outputs": [
    {
     "data": {
      "application/vnd.microsoft.datawrangler.viewer.v0+json": {
       "columns": [
        {
         "name": "index",
         "rawType": "object",
         "type": "string"
        },
        {
         "name": "0",
         "rawType": "object",
         "type": "unknown"
        }
       ],
       "ref": "7ca672eb-e8b4-438d-9e35-0982a098b15d",
       "rows": [
        [
         "invoice_amount_net",
         "float64"
        ],
        [
         "invoice_amount_total",
         "float64"
        ],
        [
         "customer_number",
         "int64"
        ],
        [
         "due_date",
         "object"
        ],
        [
         "invoice_date",
         "object"
        ],
        [
         "final_pay_date",
         "object"
        ],
        [
         "month_name",
         "object"
        ],
        [
         "accounting_month",
         "int64"
        ],
        [
         "accounting_year",
         "int64"
        ],
        [
         "accounting_year_date",
         "object"
        ],
        [
         "broker",
         "object"
        ],
        [
         "client_anon",
         "object"
        ]
       ],
       "shape": {
        "columns": 1,
        "rows": 12
       }
      },
      "text/plain": [
       "invoice_amount_net      float64\n",
       "invoice_amount_total    float64\n",
       "customer_number           int64\n",
       "due_date                 object\n",
       "invoice_date             object\n",
       "final_pay_date           object\n",
       "month_name               object\n",
       "accounting_month          int64\n",
       "accounting_year           int64\n",
       "accounting_year_date     object\n",
       "broker                   object\n",
       "client_anon              object\n",
       "dtype: object"
      ]
     },
     "execution_count": 30,
     "metadata": {},
     "output_type": "execute_result"
    }
   ],
   "source": [
    "fortnox_invoices.dtypes"
   ]
  },
  {
   "cell_type": "code",
   "execution_count": 31,
   "id": "43eaf95b",
   "metadata": {},
   "outputs": [
    {
     "data": {
      "application/vnd.microsoft.datawrangler.viewer.v0+json": {
       "columns": [
        {
         "name": "index",
         "rawType": "object",
         "type": "string"
        },
        {
         "name": "0",
         "rawType": "object",
         "type": "unknown"
        }
       ],
       "ref": "562b8169-ded2-48bc-bd33-8db79cc27e36",
       "rows": [
        [
         "employee_id",
         "int64"
        ],
        [
         "employee_code",
         "int64"
        ],
        [
         "first_name",
         "object"
        ],
        [
         "last_name",
         "object"
        ],
        [
         "practice",
         "object"
        ]
       ],
       "shape": {
        "columns": 1,
        "rows": 5
       }
      },
      "text/plain": [
       "employee_id       int64\n",
       "employee_code     int64\n",
       "first_name       object\n",
       "last_name        object\n",
       "practice         object\n",
       "dtype: object"
      ]
     },
     "execution_count": 31,
     "metadata": {},
     "output_type": "execute_result"
    }
   ],
   "source": [
    "employees.dtypes"
   ]
  },
  {
   "cell_type": "code",
   "execution_count": 16,
   "id": "893c7b4e",
   "metadata": {},
   "outputs": [
    {
     "data": {
      "application/vnd.microsoft.datawrangler.viewer.v0+json": {
       "columns": [
        {
         "name": "index",
         "rawType": "object",
         "type": "string"
        },
        {
         "name": "0",
         "rawType": "object",
         "type": "unknown"
        }
       ],
       "ref": "b31bdd69-3ff6-43f0-a23e-f62542e757ac",
       "rows": [
        [
         "project_id",
         "object"
        ],
        [
         "client_id",
         "object"
        ],
        [
         "clockify_project_billable",
         "bool"
        ],
        [
         "project_duration",
         "object"
        ],
        [
         "estimated_durationn",
         "object"
        ],
        [
         "client_anon",
         "object"
        ],
        [
         "project_anon",
         "object"
        ]
       ],
       "shape": {
        "columns": 1,
        "rows": 7
       }
      },
      "text/plain": [
       "project_id                   object\n",
       "client_id                    object\n",
       "clockify_project_billable      bool\n",
       "project_duration             object\n",
       "estimated_durationn          object\n",
       "client_anon                  object\n",
       "project_anon                 object\n",
       "dtype: object"
      ]
     },
     "execution_count": 16,
     "metadata": {},
     "output_type": "execute_result"
    }
   ],
   "source": [
    "projects.dtypes"
   ]
  },
  {
   "cell_type": "code",
   "execution_count": 15,
   "id": "56a9a70c",
   "metadata": {},
   "outputs": [
    {
     "data": {
      "application/vnd.microsoft.datawrangler.viewer.v0+json": {
       "columns": [
        {
         "name": "index",
         "rawType": "object",
         "type": "string"
        },
        {
         "name": "0",
         "rawType": "object",
         "type": "unknown"
        }
       ],
       "ref": "5b351b70-2906-4a59-b7b1-8be817694527",
       "rows": [
        [
         "role_id",
         "object"
        ],
        [
         "industry_name",
         "object"
        ],
        [
         "role_category_name",
         "object"
        ],
        [
         "hourly_rate",
         "float64"
        ],
        [
         "billing_type",
         "object"
        ],
        [
         "seniority",
         "object"
        ],
        [
         "startdate",
         "object"
        ],
        [
         "name_anon",
         "object"
        ]
       ],
       "shape": {
        "columns": 1,
        "rows": 8
       }
      },
      "text/plain": [
       "role_id                object\n",
       "industry_name          object\n",
       "role_category_name     object\n",
       "hourly_rate           float64\n",
       "billing_type           object\n",
       "seniority              object\n",
       "startdate              object\n",
       "name_anon              object\n",
       "dtype: object"
      ]
     },
     "execution_count": 15,
     "metadata": {},
     "output_type": "execute_result"
    }
   ],
   "source": [
    "notion_roles.dtypes"
   ]
  },
  {
   "cell_type": "code",
   "execution_count": 13,
   "id": "7d8ecfc8",
   "metadata": {},
   "outputs": [
    {
     "data": {
      "application/vnd.microsoft.datawrangler.viewer.v0+json": {
       "columns": [
        {
         "name": "index",
         "rawType": "object",
         "type": "string"
        },
        {
         "name": "0",
         "rawType": "object",
         "type": "unknown"
        }
       ],
       "ref": "d10a144c-1673-496a-90d9-0f6a735ebe5c",
       "rows": [
        [
         "consultant_id",
         "object"
        ],
        [
         "active",
         "object"
        ],
        [
         "startdate",
         "object"
        ],
        [
         "seniority",
         "object"
        ],
        [
         "consultant_name_anon",
         "object"
        ]
       ],
       "shape": {
        "columns": 1,
        "rows": 5
       }
      },
      "text/plain": [
       "consultant_id           object\n",
       "active                  object\n",
       "startdate               object\n",
       "seniority               object\n",
       "consultant_name_anon    object\n",
       "dtype: object"
      ]
     },
     "execution_count": 13,
     "metadata": {},
     "output_type": "execute_result"
    }
   ],
   "source": [
    "notion_hr.dtypes"
   ]
  },
  {
   "cell_type": "code",
   "execution_count": 14,
   "id": "e3824a1e",
   "metadata": {},
   "outputs": [
    {
     "data": {
      "application/vnd.microsoft.datawrangler.viewer.v0+json": {
       "columns": [
        {
         "name": "index",
         "rawType": "object",
         "type": "string"
        },
        {
         "name": "0",
         "rawType": "object",
         "type": "unknown"
        }
       ],
       "ref": "19d75014-96b3-432b-8a10-9a6f272a26be",
       "rows": [
        [
         "client_id",
         "object"
        ],
        [
         "category",
         "object"
        ],
        [
         "industry_id",
         "object"
        ],
        [
         "company_size",
         "object"
        ],
        [
         "company_type",
         "object"
        ],
        [
         "n_roles",
         "int64"
        ],
        [
         "n_projects",
         "int64"
        ],
        [
         "n_people",
         "int64"
        ],
        [
         "started_at",
         "object"
        ],
        [
         "name_anon",
         "object"
        ]
       ],
       "shape": {
        "columns": 1,
        "rows": 10
       }
      },
      "text/plain": [
       "client_id       object\n",
       "category        object\n",
       "industry_id     object\n",
       "company_size    object\n",
       "company_type    object\n",
       "n_roles          int64\n",
       "n_projects       int64\n",
       "n_people         int64\n",
       "started_at      object\n",
       "name_anon       object\n",
       "dtype: object"
      ]
     },
     "execution_count": 14,
     "metadata": {},
     "output_type": "execute_result"
    }
   ],
   "source": [
    "notion_clients.dtypes"
   ]
  },
  {
   "cell_type": "code",
   "execution_count": null,
   "id": "4f8fea95",
   "metadata": {},
   "outputs": [],
   "source": []
  },
  {
   "cell_type": "markdown",
   "id": "1af6b88b",
   "metadata": {},
   "source": [
    "# levenshtein stuff"
   ]
  },
  {
   "cell_type": "code",
   "execution_count": 8,
   "id": "67cb1017",
   "metadata": {},
   "outputs": [],
   "source": [
    "employees['consultant_name_anon']=employees['first_name']+' '+employees['last_name']"
   ]
  },
  {
   "cell_type": "code",
   "execution_count": 9,
   "id": "daef8be1",
   "metadata": {},
   "outputs": [
    {
     "name": "stdout",
     "output_type": "stream",
     "text": [
      "Luke Rhinehart  with 0\n",
      "Alexander Macedon  with 0\n",
      "Rachel Lamb  with 0\n",
      "Bingo Storm  with 0\n",
      "Astarion Baldersson  with 1\n",
      "Erroll Datasson  with 0\n",
      "Bertil Grindd  with 1\n",
      "ilya Altman  with 1\n",
      "Dag Ström  with 0\n",
      "Jana Bjork  with 1\n"
     ]
    }
   ],
   "source": [
    "for i in employees['consultant_name_anon']:\n",
    "    min_dist=100\n",
    "    closest_name=''\n",
    "    for e in notion_hr['consultant_name_anon']:    \n",
    "        x= Levenshtein.distance(i,e)\n",
    "        if x<min_dist:\n",
    "            min_dist=x\n",
    "            closest_name=e\n",
    "    if min_dist<3:\n",
    "        employees.loc[employees['consultant_name_anon']==i,'notion_name']=closest_name\n",
    "        print(f'{i}  with {min_dist}')"
   ]
  },
  {
   "cell_type": "code",
   "execution_count": 10,
   "id": "6876f09a",
   "metadata": {},
   "outputs": [
    {
     "name": "stdout",
     "output_type": "stream",
     "text": [
      "Bertil Grind  with 1\n",
      "Alexander Macedon  with 0\n",
      "Luke Rhinehart  with 0\n",
      "Rachel Lamb  with 0\n",
      "Astarion Baldursson  with 1\n",
      "Dag Ström  with 0\n",
      "Bingo Storm  with 0\n",
      "Ilya Altman  with 1\n",
      "Jana Björk  with 1\n",
      "Erroll Datasson  with 0\n"
     ]
    }
   ],
   "source": [
    "for i in notion_hr['consultant_name_anon']:\n",
    "    min_dist=100\n",
    "    closest_name=''\n",
    "    for e in employees['consultant_name_anon']:    \n",
    "        x= Levenshtein.distance(i,e)\n",
    "        if x<min_dist:\n",
    "            min_dist=x\n",
    "            closest_name=e\n",
    "    if min_dist<3:\n",
    "        print(f'{i}  with {min_dist}')"
   ]
  },
  {
   "cell_type": "markdown",
   "id": "8c57bd0a",
   "metadata": {},
   "source": [
    "# making bridge table"
   ]
  },
  {
   "cell_type": "code",
   "execution_count": null,
   "id": "3040f5a0",
   "metadata": {},
   "outputs": [
    {
     "name": "stdout",
     "output_type": "stream",
     "text": [
      "CSV 브리지 테이블이 생성되었습니다: bridge_table.csv\n"
     ]
    }
   ],
   "source": [
    "import csv\n",
    "\n",
    "# ====== employee info ======\n",
    "# employee_id : employees.employee_id\n",
    "# consultant_id : notion_hr.consultant_id\n",
    "# employee_name : name to clarify\n",
    "employees_bridge_table = [\n",
    "    {\"employee_id\": 2, \"consultant_id\": \"85808593-b0e4-4163-b8f1-a5fc90b219ee\", \"employee_name\": \"Bingo Storm\"},\n",
    "    {\"employee_id\": 3, \"consultant_id\": \"2a554628-d7f2-475f-8872-5a7057388c36\", \"employee_name\": \"Bertil Grindd\"},\n",
    "    {\"employee_id\": 4, \"consultant_id\": \"61948bc5-3844-4219-a605-94e22f59571a\", \"employee_name\": \"Gunnar Gunnarsson\"},\n",
    "    {\"employee_id\": 5, \"consultant_id\": \"348c564a-f3b1-42f9-95e5-cd6a9ca66aa7\", \"employee_name\": \"Erroll Datasson\"},\n",
    "    {\"employee_id\": 6, \"consultant_id\": \"d2458d77-5056-43b5-82c4-12543225bcd9\", \"employee_name\": \"Jana Bjork\"},\n",
    "    {\"employee_id\": 7, \"consultant_id\": \"38eebb46-9733-484c-afd2-543d79eb80b1\", \"employee_name\": \"Sila Rofat Faircloth\"},\n",
    "    {\"employee_id\": 8, \"consultant_id\": \"8b3bf3a7-ae48-4c80-8b37-b3bb0796aea2\", \"employee_name\": \"Gabriel Lennartsson\"},\n",
    "    {\"employee_id\": 9, \"consultant_id\": \"afd559ec-90bf-40c9-8e96-57e3d7af66fd\", \"employee_name\": \"Astarion Baldersson\"},\n",
    "    {\"employee_id\": 10, \"consultant_id\": \"db394d2e-2ed0-47a1-b5b9-236f864768ab\", \"employee_name\": \"Dag Ström\"},\n",
    "    {\"employee_id\": 11, \"consultant_id\": \"40d8972b-c3ad-450e-a56d-873a8cdc4368\", \"employee_name\": \"ilya Altman\"},\n",
    "    {\"employee_id\": 12, \"consultant_id\": \"086ef6c0-d4f2-45bb-bf64-2cb51ce8fec4\", \"employee_name\": \"Rachel Lamb\"},\n",
    "    {\"employee_id\": 20, \"consultant_id\": \"261b42da-30b3-8088-b413-f0676fb78aa4\", \"employee_name\": \"Luke Rhinehart\"},\n",
    "    {\"employee_id\": 21, \"consultant_id\": \"261b42da-30b3-801f-ade8-e0f9f5d087b6\", \"employee_name\": \"Alexander Macedon\"},\n",
    "    \n",
    "\n",
    "]\n",
    "\n",
    "# ====== CSV ======\n",
    "csv_file = \"bridge_table.csv\"\n",
    "with open(csv_file, mode=\"w\", newline=\"\", encoding=\"utf-8\") as f:\n",
    "    writer = csv.DictWriter(f, fieldnames=[\"employee_id\",\"consultant_id\",\"user_id\",\"employee_name\"])\n",
    "    writer.writeheader()\n",
    "    for emp in employees:\n",
    "        writer.writerow(emp)\n",
    "\n",
    "print(f\"CSV bridge table: {csv_file}\")\n"
   ]
  },
  {
   "cell_type": "code",
   "execution_count": 13,
   "id": "b4987785",
   "metadata": {},
   "outputs": [],
   "source": [
    "projects.to_csv('projects.csv',index=False)"
   ]
  },
  {
   "cell_type": "code",
   "execution_count": null,
   "id": "b1f171d0",
   "metadata": {},
   "outputs": [],
   "source": [
    "employees"
   ]
  },
  {
   "cell_type": "code",
   "execution_count": 16,
   "id": "bcf3a3a9",
   "metadata": {},
   "outputs": [],
   "source": [
    "\n",
    "hubspot_sales_pipeline_stages.to_csv('hubspot_sales_pipeline_stages.csv', index=False)\n",
    "notion_hr.to_csv('notion_hr.csv', index=False)\n",
    "notion_clients.to_csv('notion_clients.csv', index=False)\n",
    "notion_roles.to_csv('notion_roles.csv', index=False)\n",
    "fortnox_invoices.to_csv('fornox_invoice.csv', index=False)\n",
    "fortnox_supplier_invoices.to_csv('fortnox_supplier_invoices.csv', index=False)\n",
    "hubspot_deals.to_csv('hubspot_deals.csv', index=False)\n",
    "time_entries.to_csv('time_entries.csv', index=False)\n",
    "qbis__activity_time.to_csv('qbis__activity_time.csv', index=False)\n",
    "qbis__project_activities.to_csv('qbis__project_activities.csv', index=False)\n"
   ]
  },
  {
   "cell_type": "code",
   "execution_count": 32,
   "id": "a5a6b3ed",
   "metadata": {},
   "outputs": [],
   "source": [
    "employees.to_csv('employees.csv', index=False)"
   ]
  },
  {
   "cell_type": "code",
   "execution_count": null,
   "id": "8d417060",
   "metadata": {},
   "outputs": [],
   "source": [
    "employees"
   ]
  }
 ],
 "metadata": {
  "kernelspec": {
   "display_name": "Python 3",
   "language": "python",
   "name": "python3"
  },
  "language_info": {
   "codemirror_mode": {
    "name": "ipython",
    "version": 3
   },
   "file_extension": ".py",
   "mimetype": "text/x-python",
   "name": "python",
   "nbconvert_exporter": "python",
   "pygments_lexer": "ipython3",
   "version": "3.13.1"
  }
 },
 "nbformat": 4,
 "nbformat_minor": 5
}
